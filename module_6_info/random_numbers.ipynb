{
 "cells": [
  {
   "cell_type": "code",
   "execution_count": 1,
   "id": "2e228e2d",
   "metadata": {},
   "outputs": [],
   "source": [
    "# Import the random module.\n",
    "import random"
   ]
  },
  {
   "cell_type": "code",
   "execution_count": 2,
   "id": "8452968b",
   "metadata": {},
   "outputs": [
    {
     "data": {
      "text/plain": [
       "-68"
      ]
     },
     "execution_count": 2,
     "metadata": {},
     "output_type": "execute_result"
    }
   ],
   "source": [
    "random.randint(-90,90)\n",
    "\n"
   ]
  },
  {
   "cell_type": "code",
   "execution_count": 3,
   "id": "23efff98",
   "metadata": {},
   "outputs": [
    {
     "data": {
      "text/plain": [
       "0.2028117194168837"
      ]
     },
     "execution_count": 3,
     "metadata": {},
     "output_type": "execute_result"
    }
   ],
   "source": [
    "random.random()"
   ]
  },
  {
   "cell_type": "code",
   "execution_count": 4,
   "id": "a9e64c29",
   "metadata": {},
   "outputs": [
    {
     "data": {
      "text/plain": [
       "40.542677389482456"
      ]
     },
     "execution_count": 4,
     "metadata": {},
     "output_type": "execute_result"
    }
   ],
   "source": [
    "random_number =random.randint(-90,89)+random.random()\n",
    "random_number"
   ]
  },
  {
   "cell_type": "code",
   "execution_count": 5,
   "id": "b0343711",
   "metadata": {},
   "outputs": [
    {
     "data": {
      "text/plain": [
       "[62.91073461239557,\n",
       " -81.56398369957564,\n",
       " -67.58284416167866,\n",
       " 47.78694775790597,\n",
       " -60.29544638695915,\n",
       " -33.289417925701215,\n",
       " 54.109406442086765,\n",
       " 58.774571810407565,\n",
       " 84.21851534079511,\n",
       " 49.96080666974614]"
      ]
     },
     "execution_count": 5,
     "metadata": {},
     "output_type": "execute_result"
    }
   ],
   "source": [
    "x = 1\n",
    "latitudes = []\n",
    "while x < 11:\n",
    "    random_lat = random.randint(-90, 89) + random.random()\n",
    "    latitudes.append(random_lat)\n",
    "    x += 1\n",
    "latitudes"
   ]
  },
  {
   "cell_type": "code",
   "execution_count": 6,
   "id": "70f70956",
   "metadata": {},
   "outputs": [],
   "source": [
    "# Import the NumPy module.\n",
    "import numpy as np"
   ]
  },
  {
   "cell_type": "code",
   "execution_count": 7,
   "id": "8f648b9e",
   "metadata": {},
   "outputs": [
    {
     "data": {
      "text/plain": [
       "24.52828210180533"
      ]
     },
     "execution_count": 7,
     "metadata": {},
     "output_type": "execute_result"
    }
   ],
   "source": [
    "np.random.uniform(-90.00,90.00)"
   ]
  },
  {
   "cell_type": "code",
   "execution_count": 8,
   "id": "7ca51b4b",
   "metadata": {},
   "outputs": [
    {
     "data": {
      "text/plain": [
       "array([ 19.47121527, -83.39364027, -54.68162613, -28.65645017,\n",
       "        23.46717952,  69.8881513 , -13.0541318 , -49.4903627 ,\n",
       "        23.96422419, -14.77991904,   0.25253536,   4.13287186,\n",
       "        44.58790363, -26.37713055,  75.62307655, -43.53914451,\n",
       "       -27.58955104, -70.13051231,  36.76837079, -14.10189668,\n",
       "        18.06570427, -53.42788839,  20.08263297,  33.41892331,\n",
       "       -53.23327739,  75.60255412,  16.24653172, -69.7087952 ,\n",
       "         5.65547666,   3.98260545, -27.16491029,  61.20530192,\n",
       "       -18.26713819,  38.90443442,  23.99683532, -24.37750104,\n",
       "         8.78755819,  50.6235954 , -83.83331396,  26.24156698,\n",
       "        58.82723493, -21.11227451, -35.46403759,  -9.2319425 ,\n",
       "       -12.2853258 ,  14.26529834, -62.87511252,  73.3841303 ,\n",
       "       -77.43621839,  39.47115023])"
      ]
     },
     "execution_count": 8,
     "metadata": {},
     "output_type": "execute_result"
    }
   ],
   "source": [
    "np.random.uniform(-90.000,90.000, size=50)"
   ]
  },
  {
   "cell_type": "code",
   "execution_count": 9,
   "id": "e56e7bc6",
   "metadata": {},
   "outputs": [],
   "source": [
    "import timeit"
   ]
  },
  {
   "cell_type": "code",
   "execution_count": 10,
   "id": "681f8ac9",
   "metadata": {},
   "outputs": [
    {
     "name": "stdout",
     "output_type": "stream",
     "text": [
      "19.2 µs ± 2.53 µs per loop (mean ± std. dev. of 7 runs, 10000 loops each)\n"
     ]
    }
   ],
   "source": [
    "%timeit np.random.uniform(-90.000,90.000, size=1500)"
   ]
  },
  {
   "cell_type": "code",
   "execution_count": 12,
   "id": "6828a468",
   "metadata": {},
   "outputs": [
    {
     "name": "stdout",
     "output_type": "stream",
     "text": [
      "1.67 ms ± 22.2 µs per loop (mean ± std. dev. of 7 runs, 1000 loops each)\n"
     ]
    }
   ],
   "source": [
    "def latitudes(size):\n",
    "    latitudes = []\n",
    "    x = 0\n",
    "    while x < (size):\n",
    "        random_lat = random.randint(-90, 90) + random.random()\n",
    "        latitudes.append(random_lat)\n",
    "        x += 1\n",
    "    return latitudes\n",
    "# Call the function with 1500.\n",
    "%timeit latitudes(1500)"
   ]
  },
  {
   "cell_type": "code",
   "execution_count": null,
   "id": "ac6f43dc",
   "metadata": {},
   "outputs": [],
   "source": []
  },
  {
   "cell_type": "code",
   "execution_count": null,
   "id": "7b475d1d",
   "metadata": {},
   "outputs": [],
   "source": []
  },
  {
   "cell_type": "code",
   "execution_count": null,
   "id": "3a0af6f5",
   "metadata": {},
   "outputs": [],
   "source": []
  }
 ],
 "metadata": {
  "kernelspec": {
   "display_name": "Python 3 (ipykernel)",
   "language": "python",
   "name": "python3"
  },
  "language_info": {
   "codemirror_mode": {
    "name": "ipython",
    "version": 3
   },
   "file_extension": ".py",
   "mimetype": "text/x-python",
   "name": "python",
   "nbconvert_exporter": "python",
   "pygments_lexer": "ipython3",
   "version": "3.7.13"
  },
  "vscode": {
   "interpreter": {
    "hash": "1cb5c6b44db7b07d866b219af6d263c6a735b76196afd0ae4d05c1543aa40258"
   }
  }
 },
 "nbformat": 4,
 "nbformat_minor": 5
}
